{
 "cells": [
  {
   "cell_type": "markdown",
   "id": "34ec52fc",
   "metadata": {},
   "source": [
    "# Getting Started with Machine Learning\n",
    "This beginner notebook demonstrates how a basic ML model works using a simple dataset."
   ]
  },
  {
   "cell_type": "code",
   "execution_count": null,
   "id": "b6b8c8b8",
   "metadata": {},
   "outputs": [],
   "source": [
    "# Import libraries\n",
    "import pandas as pd\n",
    "from sklearn.model_selection import train_test_split\n",
    "from sklearn.linear_model import LogisticRegression\n",
    "from sklearn.metrics import accuracy_score"
   ]
  },
  {
   "cell_type": "code",
   "execution_count": null,
   "id": "7ff9018c",
   "metadata": {},
   "outputs": [],
   "source": [
    "# Load dataset\n",
    "df = pd.read_csv('study_data.csv')\n",
    "df.head()"
   ]
  },
  {
   "cell_type": "code",
   "execution_count": null,
   "id": "1d80eb17",
   "metadata": {},
   "outputs": [],
   "source": [
    "# Prepare data\n",
    "X = df[['Hours_Studied']]\n",
    "y = df['Passed_Exam']\n",
    "X_train, X_test, y_train, y_test = train_test_split(X, y, test_size=0.25, random_state=42)"
   ]
  },
  {
   "cell_type": "code",
   "execution_count": null,
   "id": "37d9ba88",
   "metadata": {},
   "outputs": [],
   "source": [
    "# Train model\n",
    "model = LogisticRegression()\n",
    "model.fit(X_train, y_train)"
   ]
  },
  {
   "cell_type": "code",
   "execution_count": null,
   "id": "29647d82",
   "metadata": {},
   "outputs": [],
   "source": [
    "# Evaluate model\n",
    "y_pred = model.predict(X_test)\n",
    "accuracy = accuracy_score(y_test, y_pred)\n",
    "print(f\"Model Accuracy: {accuracy:.2f}\")"
   ]
  },
  {
   "cell_type": "markdown",
   "id": "cd9642d5",
   "metadata": {},
   "source": [
    "### Notes:\n",
    "- This notebook shows how the number of study hours can help predict if a student passes an exam.\n",
    "- It uses logistic regression, which is a good first model for binary classification problems.\n",
    "- You can edit this notebook later and add your own comments or experiment with different data."
   ]
  }
 ],
 "metadata": {},
 "nbformat": 4,
 "nbformat_minor": 5
}
